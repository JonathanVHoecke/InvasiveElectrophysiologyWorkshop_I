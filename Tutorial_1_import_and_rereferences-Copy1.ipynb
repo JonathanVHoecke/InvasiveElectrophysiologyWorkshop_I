{
 "cells": [
  {
   "cell_type": "markdown",
   "id": "reasonable-outdoors",
   "metadata": {},
   "source": [
    "### ICN Invasive Electrophysiology tutorial "
   ]
  },
  {
   "cell_type": "markdown",
   "id": "chief-terrace",
   "metadata": {},
   "source": [
    "The tutorial requires the following installed packages: \n",
    " - numpy\n",
    " - mne \n",
    " - matplotlib\n",
    " \n",
    "For installing type \n",
    "\n",
    "```python\n",
    "import sys\n",
    "!{sys.executable} -m pip install mne\n",
    "```"
   ]
  },
  {
   "cell_type": "code",
   "execution_count": 1,
   "id": "noticed-shade",
   "metadata": {},
   "outputs": [
    {
     "data": {
      "text/plain": [
       "'0.22.0'"
      ]
     },
     "execution_count": 1,
     "metadata": {},
     "output_type": "execute_result"
    }
   ],
   "source": [
    "import numpy as np\n",
    "from matplotlib import pyplot as plt\n",
    "import mne\n",
    "import scipy.io as spio\n",
    "mne.__version__"
   ]
  },
  {
   "cell_type": "markdown",
   "id": "prescription-justice",
   "metadata": {},
   "source": [
    "First let's choose a folder where we will create some files: "
   ]
  },
  {
   "cell_type": "code",
   "execution_count": 2,
   "id": "loving-sensitivity",
   "metadata": {},
   "outputs": [],
   "source": [
    "import os\n",
    "root = os.getcwd()\n",
    "#root = r'C:\\Users\\richa\\GitHub\\MATLAB_Electrophysiology_Import\\Python'"
   ]
  },
  {
   "cell_type": "markdown",
   "id": "green-supervisor",
   "metadata": {},
   "source": [
    "#### Data generation"
   ]
  },
  {
   "cell_type": "markdown",
   "id": "prospective-boutique",
   "metadata": {},
   "source": [
    "Now let's create some fake data first. We will stick along with the MNE Raw Array tutorial https://mne.tools/0.11/auto_tutorials/plot_creating_data_structures.html. \n",
    "Using the MNE RawArray initialization we provide an info dictionary that can contain various aspects of the data. \n",
    "Here we specify the\n",
    " - channel names \n",
    " - channel types \n",
    " - sampling frequency "
   ]
  },
  {
   "cell_type": "code",
   "execution_count": 3,
   "id": "express-collectible",
   "metadata": {},
   "outputs": [
    {
     "name": "stdout",
     "output_type": "stream",
     "text": [
      "Creating RawArray with float64 data, n_channels=5, n_times=10000\n",
      "    Range : 0 ... 9999 =      0.000 ...     9.999 secs\n",
      "Ready.\n",
      "<RawArray | 5 x 10000 (10.0 s), ~401 kB, data loaded>\n"
     ]
    }
   ],
   "source": [
    "# Generate some random data\n",
    "data = np.random.randn(5, 10000)\n",
    "\n",
    "# Initialize an info structure\n",
    "info = mne.create_info(\n",
    "    ch_names=['ECOG_1_L_SM_AT', 'ECOG_2_L_SM_AT', 'ECOG_3_L_SM_AT', 'ECOG_4_L_SM_AT', 'EMG_1_R_BR_TM'],\n",
    "    ch_types=['ecog', 'ecog', 'ecog', 'ecog', 'emg'],\n",
    "    sfreq=1000\n",
    ")\n",
    "\n",
    "custom_raw = mne.io.RawArray(data, info)\n",
    "print(custom_raw)"
   ]
  },
  {
   "cell_type": "markdown",
   "id": "going-stocks",
   "metadata": {},
   "source": [
    "Based on this data we can plot the data stream: \n",
    "For inline plotting:  \n",
    "```\n",
    "%matplotlib inline \n",
    "```\n",
    "For interactive window: \n",
    "```\n",
    "%matplotlib qt\n",
    "```\n"
   ]
  },
  {
   "cell_type": "code",
   "execution_count": 6,
   "id": "damaged-certification",
   "metadata": {},
   "outputs": [],
   "source": [
    "%matplotlib qt"
   ]
  },
  {
   "cell_type": "code",
   "execution_count": 7,
   "id": "intensive-coalition",
   "metadata": {},
   "outputs": [
    {
     "name": "stdout",
     "output_type": "stream",
     "text": [
      "Channels marked as bad: none\n",
      "Attempting to create new mne-python configuration file:\n",
      "C:\\Users\\richa\\.mne\\mne-python.json\n"
     ]
    }
   ],
   "source": [
    "fig = custom_raw.plot(duration=0.5, bgcolor=\"w\", \n",
    "                scalings=\"auto\")"
   ]
  },
  {
   "cell_type": "markdown",
   "id": "plain-estimate",
   "metadata": {},
   "source": [
    "### Read fieldtrip data"
   ]
  },
  {
   "cell_type": "markdown",
   "id": "saved-mobile",
   "metadata": {},
   "source": [
    "Now we will demonstrate the feasibility to read fieldtrip generate .mat files in python.\n",
    "Scipy supports this using a io function, but accessing the struct keys is not straightforward. Luckily previous wrapper have them proposed that convert every struct element into a respective dictionary \n",
    "\n",
    "https://stackoverflow.com/questions/7008608/scipy-io-loadmat-nested-structures-i-e-dictionaries"
   ]
  },
  {
   "cell_type": "code",
   "execution_count": 8,
   "id": "reverse-royalty",
   "metadata": {},
   "outputs": [],
   "source": [
    "# from stackoverflow answer above \n",
    "\n",
    "def loadmat(filename):\n",
    "    '''\n",
    "    this function should be called instead of direct spio.loadmat\n",
    "    as it cures the problem of not properly recovering python dictionaries\n",
    "    from mat files. It calls the function check keys to cure all entries\n",
    "    which are still mat-objects\n",
    "    '''\n",
    "    data = spio.loadmat(filename, struct_as_record=False, squeeze_me=True)\n",
    "    return _check_keys(data)\n",
    "\n",
    "def _check_keys(dict):\n",
    "    '''\n",
    "    checks if entries in dictionary are mat-objects. If yes\n",
    "    todict is called to change them to nested dictionaries\n",
    "    '''\n",
    "    for key in dict:\n",
    "        if isinstance(dict[key], spio.matlab.mio5_params.mat_struct):\n",
    "            dict[key] = _todict(dict[key])\n",
    "    return dict        \n",
    "\n",
    "def _todict(matobj):\n",
    "    '''\n",
    "    A recursive function which constructs from matobjects nested dictionaries\n",
    "    '''\n",
    "    dict = {}\n",
    "    for strg in matobj._fieldnames:\n",
    "        elem = matobj.__dict__[strg]\n",
    "        if isinstance(elem, spio.matlab.mio5_params.mat_struct):\n",
    "            dict[strg] = _todict(elem)\n",
    "        else:\n",
    "            dict[strg] = elem\n",
    "    return dict"
   ]
  },
  {
   "cell_type": "code",
   "execution_count": 9,
   "id": "regulation-processing",
   "metadata": {},
   "outputs": [],
   "source": [
    "path_fieldtrip = r'C:\\Users\\richa\\OneDrive - Charité - Universitätsmedizin Berlin\\Data\\Tutorials\\MATLAB_Electrophysiology_Import\\fieldtrip_sub-001_MedOff_StimOff_16-Dec-1985.mat'"
   ]
  },
  {
   "cell_type": "code",
   "execution_count": 10,
   "id": "korean-dynamics",
   "metadata": {},
   "outputs": [],
   "source": [
    "ft = loadmat(path_fieldtrip)"
   ]
  },
  {
   "cell_type": "code",
   "execution_count": 11,
   "id": "rough-focus",
   "metadata": {},
   "outputs": [
    {
     "data": {
      "text/plain": [
       "{'__header__': b'MATLAB 5.0 MAT-file, Platform: PCWIN64, Created on: Fri Feb 19 16:44:32 2021',\n",
       " '__version__': '1.0',\n",
       " '__globals__': [],\n",
       " 'data': {'trial': array([[  4.7727355 , -24.00878152, -24.09943197, ...,   1.81095891,\n",
       "           29.26696365,  -8.00461687],\n",
       "         [-10.1021783 , -54.39225997, -61.37930437, ...,   8.24986502,\n",
       "           -0.43415379,  -2.24514335],\n",
       "         [ 26.29846896, -37.99431375, -13.68528981, ...,  53.72061546,\n",
       "           -9.53969738, -26.30481759],\n",
       "         ...,\n",
       "         [-26.60669239, -50.88489575, -80.07684686, ...,   5.94662928,\n",
       "            6.20339614, -26.35325314],\n",
       "         [-92.40098247,  55.11030907, 139.01050399, ...,  13.79530378,\n",
       "           63.79531904,  19.90323634],\n",
       "         [ -8.2982589 ,  19.55282177,  37.70376312, ..., -50.46715039,\n",
       "          -11.97880591,   1.61190942]]),\n",
       "  'time': array([0.00000000e+00, 3.57164117e-03, 7.14328234e-03, ...,\n",
       "         5.99928567e+01, 5.99964284e+01, 6.00000000e+01]),\n",
       "  'label': array(['LFP_0_R_STN_U', 'LFP_1_R_STN_U', 'LFP_2_R_STN_U', 'LFP_3_R_STN_U',\n",
       "         'LFP_0_L_STN_U', 'LFP_1_L_STN_U', 'LFP_2_L_STN_U', 'ECOG_1_U_SM_U',\n",
       "         'ECOG_2_U_SM_U', 'ECOG_3_L_SM_U', 'ECOG_4_L_SM_U', 'EEG_L_C3_U',\n",
       "         'EEG_C_Cz_U', 'EMG_1_R_FDI_U', 'EMG_2_R_FDI_U'], dtype=object),\n",
       "  'fsample': 280,\n",
       "  'info': {'recording_date': MatlabOpaque([(b'', b'MCOS', b'datetime', array([3707764736,          2,          1,          1,          1,\n",
       "                                 1], dtype=uint32))                                                            ],\n",
       "                dtype=[('s0', 'O'), ('s1', 'O'), ('s2', 'O'), ('arr', 'O')]),\n",
       "   'reference': 'LFP_3_R_STN_MT',\n",
       "   'task': 'rest',\n",
       "   'medication': 'MedOff',\n",
       "   'stimulation': 'StimOff',\n",
       "   'subject': 'sub-001',\n",
       "   'source_info': 'Some super valuable invasive resting datasets that were not taken care off for a long time. The datset was recorded 1985/12/16 with TMSi SAGA, maybe like 13:35 h in the afternoon or something. 58 years old tremor dominant PD patient, her preop UPDRS was 32/12 OFF/ON, disease duraation like ~8 years,  Medication and stimulation were OFF. Sampling interval was 3.57 ms. 3389. Reference was STNL3.'},\n",
       "  'hdr': {'Fs': 280,\n",
       "   'nChans': 15,\n",
       "   'nSamples': 16800,\n",
       "   'nSamplesPre': 0,\n",
       "   'nTrials': 1,\n",
       "   'label': array(['LFP_0_R_STN_U', 'LFP_1_R_STN_U', 'LFP_2_R_STN_U', 'LFP_3_R_STN_U',\n",
       "          'LFP_0_L_STN_U', 'LFP_1_L_STN_U', 'LFP_2_L_STN_U', 'ECOG_1_U_SM_U',\n",
       "          'ECOG_2_U_SM_U', 'ECOG_3_L_SM_U', 'ECOG_4_L_SM_U', 'EEG_L_C3_U',\n",
       "          'EEG_C_Cz_U', 'EMG_1_R_FDI_U', 'EMG_2_R_FDI_U'], dtype=object),\n",
       "   'chantype': array(['SEEG', 'SEEG', 'SEEG', 'SEEG', 'SEEG', 'SEEG', 'SEEG', 'ECOG',\n",
       "          'ECOG', 'ECOG', 'ECOG', 'EEG', 'EEG', 'EMG', 'EMG'], dtype=object),\n",
       "   'chanunit': array(['unknown', 'unknown', 'unknown', 'unknown', 'unknown', 'unknown',\n",
       "          'unknown', 'unknown', 'unknown', 'unknown', 'unknown', 'unknown',\n",
       "          'unknown', 'unknown', 'unknown'], dtype=object)}},\n",
       " '__function_workspace__': array([[ 0,  1, 73, ...,  0,  0,  0]], dtype=uint8)}"
      ]
     },
     "execution_count": 11,
     "metadata": {},
     "output_type": "execute_result"
    }
   ],
   "source": [
    "ft"
   ]
  },
  {
   "cell_type": "markdown",
   "id": "acoustic-blanket",
   "metadata": {},
   "source": [
    "great! now we can simply access the fieldtrip file as a dictionary"
   ]
  },
  {
   "cell_type": "code",
   "execution_count": 12,
   "id": "fiscal-statistics",
   "metadata": {},
   "outputs": [
    {
     "data": {
      "text/plain": [
       "array(['SEEG', 'SEEG', 'SEEG', 'SEEG', 'SEEG', 'SEEG', 'SEEG', 'ECOG',\n",
       "       'ECOG', 'ECOG', 'ECOG', 'EEG', 'EEG', 'EMG', 'EMG'], dtype=object)"
      ]
     },
     "execution_count": 12,
     "metadata": {},
     "output_type": "execute_result"
    }
   ],
   "source": [
    "ft[\"data\"][\"hdr\"][\"chantype\"]"
   ]
  },
  {
   "cell_type": "markdown",
   "id": "explicit-brighton",
   "metadata": {},
   "source": [
    "So let's initialize the MNE RawArray as above and call some handy functions for basic electrophysiological signal processing"
   ]
  },
  {
   "cell_type": "code",
   "execution_count": 13,
   "id": "august-documentation",
   "metadata": {},
   "outputs": [
    {
     "data": {
      "text/plain": [
       "(15, 16800)"
      ]
     },
     "execution_count": 13,
     "metadata": {},
     "output_type": "execute_result"
    }
   ],
   "source": [
    "ft[\"data\"][\"trial\"].shape"
   ]
  },
  {
   "cell_type": "code",
   "execution_count": 14,
   "id": "fewer-nigeria",
   "metadata": {},
   "outputs": [
    {
     "data": {
      "text/plain": [
       "array(['SEEG', 'SEEG', 'SEEG', 'SEEG', 'SEEG', 'SEEG', 'SEEG', 'ECOG',\n",
       "       'ECOG', 'ECOG', 'ECOG', 'EEG', 'EEG', 'EMG', 'EMG'], dtype=object)"
      ]
     },
     "execution_count": 14,
     "metadata": {},
     "output_type": "execute_result"
    }
   ],
   "source": [
    "ft[\"data\"][\"hdr\"][\"chantype\"]"
   ]
  },
  {
   "cell_type": "markdown",
   "id": "broke-trick",
   "metadata": {},
   "source": [
    "Note that there is a difference in the supported Fieldtrip data types, so we have to convert them to lowercase "
   ]
  },
  {
   "cell_type": "code",
   "execution_count": 91,
   "id": "coated-daughter",
   "metadata": {},
   "outputs": [
    {
     "name": "stdout",
     "output_type": "stream",
     "text": [
      "Creating RawArray with float64 data, n_channels=15, n_times=16800\n",
      "    Range : 0 ... 16799 =      0.000 ...    59.996 secs\n",
      "Ready.\n"
     ]
    }
   ],
   "source": [
    "info = mne.create_info(\n",
    "    ch_names=list(ft[\"data\"][\"label\"]),\n",
    "    ch_types=list(map(lambda x:x.lower(), ft[\"data\"][\"hdr\"][\"chantype\"])),\n",
    "    sfreq=ft[\"data\"][\"hdr\"][\"Fs\"]\n",
    ")\n",
    "\n",
    "custom_raw = mne.io.RawArray(ft[\"data\"][\"trial\"], info)"
   ]
  },
  {
   "cell_type": "code",
   "execution_count": 16,
   "id": "parliamentary-compensation",
   "metadata": {},
   "outputs": [
    {
     "name": "stdout",
     "output_type": "stream",
     "text": [
      "Channels marked as bad: none\n"
     ]
    }
   ],
   "source": [
    "custom_raw.plot(scalings=\"auto\")\n",
    "plt.show()"
   ]
  },
  {
   "cell_type": "markdown",
   "id": "coral-plaintiff",
   "metadata": {},
   "source": [
    "MNE offers many functionalities, we will here discuss rereferencing. For depth LFP channels bipolar referencing is commonly used (mne.set_bipolar_reference). For ECoG or EEG Common Average Referencing (CAR) is recommended. "
   ]
  },
  {
   "cell_type": "code",
   "execution_count": 92,
   "id": "ceramic-logan",
   "metadata": {},
   "outputs": [
    {
     "name": "stdout",
     "output_type": "stream",
     "text": [
      "Applying average reference.\n",
      "Applying a custom ECoG reference.\n"
     ]
    },
    {
     "data": {
      "text/plain": [
       "<RawArray | 15 x 16800 (60.0 s), ~1.9 MB, data loaded>"
      ]
     },
     "execution_count": 92,
     "metadata": {},
     "output_type": "execute_result"
    }
   ],
   "source": [
    "custom_raw.set_eeg_reference(ref_channels='average', ch_type='ecog')"
   ]
  },
  {
   "cell_type": "code",
   "execution_count": 93,
   "id": "human-passenger",
   "metadata": {},
   "outputs": [
    {
     "data": {
      "text/plain": [
       "['LFP_0_R_STN_U',\n",
       " 'LFP_1_R_STN_U',\n",
       " 'LFP_2_R_STN_U',\n",
       " 'LFP_3_R_STN_U',\n",
       " 'LFP_0_L_STN_U',\n",
       " 'LFP_1_L_STN_U',\n",
       " 'LFP_2_L_STN_U',\n",
       " 'ECOG_1_U_SM_U',\n",
       " 'ECOG_2_U_SM_U',\n",
       " 'ECOG_3_L_SM_U',\n",
       " 'ECOG_4_L_SM_U',\n",
       " 'EEG_L_C3_U',\n",
       " 'EEG_C_Cz_U',\n",
       " 'EMG_1_R_FDI_U',\n",
       " 'EMG_2_R_FDI_U']"
      ]
     },
     "execution_count": 93,
     "metadata": {},
     "output_type": "execute_result"
    }
   ],
   "source": [
    "custom_raw.info['ch_names']"
   ]
  },
  {
   "cell_type": "markdown",
   "id": "rubber-message",
   "metadata": {},
   "source": [
    "Now let's re-reference LFP channels using a bipolar referencing scheme.\n",
    "\"A bipolar reference takes the difference between two channels (the anode minus the cathode) and adds it as a new virtual channel.\" (Source https://mne.tools/stable/generated/mne.set_bipolar_reference.html?highlight=set_bipolar_reference)."
   ]
  },
  {
   "cell_type": "markdown",
   "id": "political-pointer",
   "metadata": {},
   "source": [
    "First, let us add the empty channel 'LFP_3_L_STN_U for rereferencing purposes."
   ]
  },
  {
   "cell_type": "code",
   "execution_count": 94,
   "id": "judicial-spell",
   "metadata": {},
   "outputs": [
    {
     "data": {
      "text/plain": [
       "['LFP_0_R_STN_U',\n",
       " 'LFP_1_R_STN_U',\n",
       " 'LFP_2_R_STN_U',\n",
       " 'LFP_3_R_STN_U',\n",
       " 'LFP_0_L_STN_U',\n",
       " 'LFP_1_L_STN_U',\n",
       " 'LFP_2_L_STN_U',\n",
       " 'ECOG_1_U_SM_U',\n",
       " 'ECOG_2_U_SM_U',\n",
       " 'ECOG_3_L_SM_U',\n",
       " 'ECOG_4_L_SM_U',\n",
       " 'EEG_L_C3_U',\n",
       " 'EEG_C_Cz_U',\n",
       " 'EMG_1_R_FDI_U',\n",
       " 'EMG_2_R_FDI_U',\n",
       " 'LFP_3_L_STN_U']"
      ]
     },
     "execution_count": 94,
     "metadata": {},
     "output_type": "execute_result"
    }
   ],
   "source": [
    "custom_raw = mne.add_reference_channels(custom_raw, 'LFP_3_L_STN_U')\n",
    "custom_raw.ch_names"
   ]
  },
  {
   "cell_type": "markdown",
   "id": "effective-reading",
   "metadata": {},
   "source": [
    "\n",
    "Let's define our right anodes, cathodes and new channel names."
   ]
  },
  {
   "cell_type": "code",
   "execution_count": 95,
   "id": "promotional-eating",
   "metadata": {},
   "outputs": [],
   "source": [
    "anodes_right = custom_raw.ch_names[0:3]\n",
    "cathodes_right = custom_raw.ch_names[1:4]\n",
    "new_ch_names_right = ['LFP_01_R_STN_U',\n",
    "                     'LFP_12_R_STN_U',\n",
    "                     'LFP_23_R_STN_U']"
   ]
  },
  {
   "cell_type": "markdown",
   "id": "invalid-vanilla",
   "metadata": {},
   "source": [
    "Now let's define our left anodes, cathodes and new channel names. Note that LFP_2_L_STN is already the bipolar montage we want, as LFP_3_L_STN was the original reference electrode during recording. We therefore subtract the empty reference channel LFP_3_L_STN from LFP_2_L_STN."
   ]
  },
  {
   "cell_type": "code",
   "execution_count": 97,
   "id": "rational-cooperation",
   "metadata": {},
   "outputs": [],
   "source": [
    "anodes_left = custom_raw.ch_names[4:6] + ['LFP_2_L_STN_U']\n",
    "cathodes_left = custom_raw.ch_names[5:7] + ['LFP_3_L_STN_U']\n",
    "new_ch_names_left = ['LFP_01_L_STN_U',\n",
    "                     'LFP_12_L_STN_U',\n",
    "                     'LFP_23_L_STN_U']"
   ]
  },
  {
   "cell_type": "markdown",
   "id": "pressed-connection",
   "metadata": {},
   "source": [
    "Now let us do the actual rereferencing"
   ]
  },
  {
   "cell_type": "code",
   "execution_count": 98,
   "id": "divided-flexibility",
   "metadata": {},
   "outputs": [
    {
     "name": "stdout",
     "output_type": "stream",
     "text": [
      "EEG channel type selected for re-referencing\n",
      "Bipolar channel added as \"LFP_01_R_STN_U\".\n",
      "EEG channel type selected for re-referencing\n",
      "Bipolar channel added as \"LFP_12_R_STN_U\".\n",
      "EEG channel type selected for re-referencing\n",
      "Bipolar channel added as \"LFP_23_R_STN_U\".\n",
      "EEG channel type selected for re-referencing\n",
      "Bipolar channel added as \"LFP_01_L_STN_U\".\n",
      "EEG channel type selected for re-referencing\n",
      "Bipolar channel added as \"LFP_12_L_STN_U\".\n",
      "EEG channel type selected for re-referencing\n",
      "Bipolar channel added as \"LFP_23_L_STN_U\".\n"
     ]
    }
   ],
   "source": [
    "anodes = anodes_right + anodes_left\n",
    "cathodes = cathodes_right + cathodes_left\n",
    "new_ch_names = new_ch_names_right + new_ch_names_left\n",
    "custom_raw = mne.set_bipolar_reference(custom_raw, anodes, cathodes, new_ch_names,\n",
    "                                        drop_refs=True)"
   ]
  },
  {
   "cell_type": "markdown",
   "id": "forty-harassment",
   "metadata": {},
   "source": [
    "Now, let's inspect our new bipolar channel montage."
   ]
  },
  {
   "cell_type": "code",
   "execution_count": 100,
   "id": "becoming-sunday",
   "metadata": {},
   "outputs": [
    {
     "data": {
      "text/plain": [
       "['LFP_01_R_STN_U',\n",
       " 'LFP_12_R_STN_U',\n",
       " 'LFP_23_R_STN_U',\n",
       " 'LFP_01_L_STN_U',\n",
       " 'LFP_12_L_STN_U',\n",
       " 'LFP_23_L_STN_U',\n",
       " 'ECOG_1_U_SM_U',\n",
       " 'ECOG_2_U_SM_U',\n",
       " 'ECOG_3_L_SM_U',\n",
       " 'ECOG_4_L_SM_U',\n",
       " 'EEG_L_C3_U',\n",
       " 'EEG_C_Cz_U',\n",
       " 'EMG_1_R_FDI_U',\n",
       " 'EMG_2_R_FDI_U']"
      ]
     },
     "execution_count": 100,
     "metadata": {},
     "output_type": "execute_result"
    }
   ],
   "source": [
    "custom_raw.ch_names"
   ]
  },
  {
   "cell_type": "markdown",
   "id": "innocent-north",
   "metadata": {},
   "source": [
    "Now let's explore some functions of the MNE RawArray. First plot a PSD of the average channel types: "
   ]
  },
  {
   "cell_type": "code",
   "execution_count": 64,
   "id": "atlantic-microwave",
   "metadata": {},
   "outputs": [
    {
     "data": {
      "text/plain": [
       "<RawArray | 14 x 16800 (60.0 s), ~1.8 MB, data loaded>"
      ]
     },
     "execution_count": 64,
     "metadata": {},
     "output_type": "execute_result"
    }
   ],
   "source": [
    "custom_raw.reorder_channels(sorted(custom_raw.ch_names))"
   ]
  },
  {
   "cell_type": "code",
   "execution_count": 65,
   "id": "domestic-blond",
   "metadata": {},
   "outputs": [
    {
     "data": {
      "text/plain": [
       "['ECOG_1_U_SM_U',\n",
       " 'ECOG_2_U_SM_U',\n",
       " 'ECOG_3_L_SM_U',\n",
       " 'ECOG_4_L_SM_U',\n",
       " 'EEG_C_Cz_U',\n",
       " 'EEG_L_C3_U',\n",
       " 'EMG_1_R_FDI_U',\n",
       " 'EMG_2_R_FDI_U',\n",
       " 'LFP_01_L_STN_U',\n",
       " 'LFP_01_R_STN_U',\n",
       " 'LFP_02_L_STN_U',\n",
       " 'LFP_12_R_STN_U',\n",
       " 'LFP_23_L_STN_U',\n",
       " 'LFP_23_R_STN_U']"
      ]
     },
     "execution_count": 65,
     "metadata": {},
     "output_type": "execute_result"
    }
   ],
   "source": [
    "custom_raw.ch_names"
   ]
  },
  {
   "cell_type": "code",
   "execution_count": 24,
   "id": "original-system",
   "metadata": {},
   "outputs": [
    {
     "name": "stdout",
     "output_type": "stream",
     "text": [
      "Effective window size : 7.314 (s)\n",
      "Effective window size : 7.314 (s)\n",
      "Effective window size : 7.314 (s)\n"
     ]
    }
   ],
   "source": [
    "custom_raw.plot_psd(average=True)\n",
    "plt.show()"
   ]
  },
  {
   "cell_type": "markdown",
   "id": "appointed-bulgarian",
   "metadata": {},
   "source": [
    "Next plot a time frequency plot. Note, MNE only supports time frequency plots for data with specified events (e.g. button press). Therefore we will use here the scipy signal function: "
   ]
  },
  {
   "cell_type": "code",
   "execution_count": 107,
   "id": "proud-baseball",
   "metadata": {},
   "outputs": [
    {
     "data": {
      "image/png": "[encoded data removed]",
      "text/plain": [
       "<Figure size 432x288 with 1 Axes>"
      ]
     },
     "metadata": {
      "needs_background": "light"
     },
     "output_type": "display_data"
    }
   ],
   "source": [
    "from scipy import signal\n",
    "f, t, Sxx = signal.spectrogram(custom_raw.get_data()[3,:2000], custom_raw.info[\"sfreq\"])\n",
    "plt.pcolormesh(t, f, Sxx, shading='gouraud')\n",
    "plt.ylim(0, 50)\n",
    "plt.ylabel('Frequency [Hz]')\n",
    "plt.xlabel('Time [sec]')\n",
    "plt.title(\"Time frequency plot \"+str(custom_raw.ch_names[3]))\n",
    "plt.show()"
   ]
  },
  {
   "cell_type": "code",
   "execution_count": null,
   "id": "devoted-runner",
   "metadata": {},
   "outputs": [],
   "source": []
  }
 ],
 "metadata": {
  "kernelspec": {
   "display_name": "Python 3",
   "language": "python",
   "name": "python3"
  },
  "language_info": {
   "codemirror_mode": {
    "name": "ipython",
    "version": 3
   },
   "file_extension": ".py",
   "mimetype": "text/x-python",
   "name": "python",
   "nbconvert_exporter": "python",
   "pygments_lexer": "ipython3",
   "version": "3.9.1"
  }
 },
 "nbformat": 4,
 "nbformat_minor": 5
}
